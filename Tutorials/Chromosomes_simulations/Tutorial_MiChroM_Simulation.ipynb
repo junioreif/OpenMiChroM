{
 "cells": [
  {
   "cell_type": "markdown",
   "metadata": {},
   "source": [
    "### Single Chromosome Simulation for Classic MiChroM"
   ]
  },
  {
   "cell_type": "markdown",
   "metadata": {},
   "source": [
    "This tutorial should take between 10 to 20 minutes of reading and performing simulations."
   ]
  },
  {
   "cell_type": "markdown",
   "metadata": {},
   "source": [
    "#### Chromatin Dynamics Simulations on Chromosome 10 of stomach GRCh38 (from ENCODE Project)"
   ]
  },
  {
   "cell_type": "markdown",
   "metadata": {},
   "source": [
    "**Note**: This tutorial will be running in OpenMiChroM version 1.1.0 or greater. Please ensure you have the correct version installed before proceeding."
   ]
  },
  {
   "cell_type": "markdown",
   "metadata": {},
   "source": [
    "The first step is to import the **OpenMiChroM** module"
   ]
  },
  {
   "cell_type": "code",
   "execution_count": 1,
   "metadata": {},
   "outputs": [],
   "source": [
    "import sys \n",
    "sys.path.append('../../')\n",
    "import OpenMiChroM\n",
    "from OpenMiChroM.ChromDynamics import MiChroM"
   ]
  },
  {
   "cell_type": "markdown",
   "metadata": {},
   "source": [
    "Download the bed file that contains the sequence annotation for stomach via ENCODE website (https://www.encodeproject.org/)"
   ]
  },
  {
   "cell_type": "code",
   "execution_count": null,
   "metadata": {},
   "outputs": [],
   "source": [
    "%%bash\n",
    "wget -O Tutorials/Chromosomes_simulations/inputs/ENCFF963ZUJ.bed.gz https://www.encodeproject.org/files/ENCFF963ZUJ/@@download/ENCFF963ZUJ.bed.gz \n",
    "gunzip -f Tutorials/Chromosomes_simulations/inputs/ENCFF963ZUJ.bed.gz \n"
   ]
  },
  {
   "cell_type": "markdown",
   "metadata": {},
   "source": [
    "`MiChroM` class sets the initial parameters of the simulation:\n",
    "\n",
    "- `timeStep=0.01`: set the simulation time step to perfom the integration<br>\n",
    "- `temperature=1.0`: set the temperature of your simulation<br>"
   ]
  },
  {
   "cell_type": "code",
   "execution_count": 2,
   "metadata": {},
   "outputs": [
    {
     "name": "stdout",
     "output_type": "stream",
     "text": [
      "    ***************************************************************************************     \n",
      "    **** **** *** *** *** *** *** *** OpenMiChroM-1.1.1rc *** *** *** *** *** *** **** ****     \n",
      "\n",
      "         OpenMiChroM is a Python library for performing chromatin dynamics simulations.         \n",
      "                            OpenMiChroM uses the OpenMM Python API,                             \n",
      "                employing the MiChroM (Minimal Chromatin Model) energy function.                \n",
      "      The chromatin dynamics simulations generate an ensemble of 3D chromosomal structures      \n",
      "      that are consistent with experimental Hi-C maps, also allows simulations of a single      \n",
      "                 or multiple chromosome chain using High-Performance Computing                  \n",
      "                            in different platforms (GPUs and CPUs).                             \n",
      "\n",
      "         OpenMiChroM documentation is available at https://open-michrom.readthedocs.io          \n",
      "\n",
      "         OpenMiChroM is described in: Oliveira Junior, A. B & Contessoto, V, G et. al.          \n",
      "      A Scalable Computational Approach for Simulating Complexes of Multiple Chromosomes.       \n",
      "                  Journal of Molecular Biology. doi:10.1016/j.jmb.2020.10.034.                  \n",
      "               We also thank the polychrom <https://github.com/open2c/polychrom>                \n",
      "                 where part of this code was inspired - 10.5281/zenodo.3579472.                 \n",
      "\n",
      "                    Copyright (c) 2024, The OpenMiChroM development team at                     \n",
      "                                        Rice University                                         \n",
      "    ***************************************************************************************     \n"
     ]
    }
   ],
   "source": [
    "sim = MiChroM(name='stomach_GRCh38', temperature=1.0, timeStep=0.01)"
   ]
  },
  {
   "cell_type": "markdown",
   "metadata": {},
   "source": [
    "There are four hardware platform options to run the simulations: \n",
    "```python\n",
    "platform=\"cuda\"\n",
    "platform=\"opencl\"\n",
    "platform=\"hip\"\n",
    "platform=\"cpu\"\n",
    "```\n",
    "\n",
    "Choose accordingly."
   ]
  },
  {
   "cell_type": "code",
   "execution_count": 3,
   "metadata": {},
   "outputs": [
    {
     "name": "stdout",
     "output_type": "stream",
     "text": [
      "Using platform: CUDA\n"
     ]
    }
   ],
   "source": [
    "sim.setup(platform=\"Cuda\")"
   ]
  },
  {
   "cell_type": "markdown",
   "metadata": {},
   "source": [
    "Set the directory name in which the output of the simulation is saved:"
   ]
  },
  {
   "cell_type": "code",
   "execution_count": 4,
   "metadata": {},
   "outputs": [],
   "source": [
    "sim.saveFolder('/home/antonio/test_OM1.1')"
   ]
  },
  {
   "cell_type": "markdown",
   "metadata": {},
   "source": [
    "The next step is to load the chromatin compartment sequence for chromosome 10 and generate an initial 3D structure to start the simulation. We can use the [createSpringSpiral](https://open-michrom.readthedocs.io/en/latest/OpenMiChroM.html#OpenMiChroM.ChromDynamics.MiChroM.createSpringSpiral) function to set the initial configuration of the polymer based in the sequence file.\n",
    "\n",
    "We will use the bed file download above, and set the chromosome 10 to slice the file and get the sequence annotation."
   ]
  },
  {
   "cell_type": "code",
   "execution_count": 5,
   "metadata": {},
   "outputs": [
    {
     "name": "stdout",
     "output_type": "stream",
     "text": [
      "FENEBond was added\n",
      "SelfAvoidance was added\n",
      "AngleForce was added\n",
      "TypetoType was added\n",
      "IdealChromosome was added\n",
      "FlatBottomHarmonic was added\n",
      "Setting positions... loaded!\n",
      "Setting velocities... loaded!\n",
      "Context created!\n",
      "\n",
      "Simulation name: stomach_GRCh38\n",
      "Number of beads: 2676, Number of chains: 1\n",
      "Potential energy: 63.01043, Kinetic Energy: 1.50669 at temperature: 1.0\n",
      "\n",
      "Potential energy per forceGroup:\n",
      "                                  Values\n",
      "FENEBond                   54584.082069\n",
      "SelfAvoidance                  0.000000\n",
      "AngleForce                     1.002699\n",
      "TypetoType                  -212.000758\n",
      "IdealChromosome               -1.071779\n",
      "FlatBottomHarmonic        114243.908772\n",
      "Potential Energy (total)  168615.921003\n"
     ]
    }
   ],
   "source": [
    "# sim.buildClassicMichrom(ChromSeq='Tutorials/Chromosomes_simulations/inputs/ENCFF963ZUJ.bed', chromosome='chr10')\n",
    "sim.buildClassicMichrom(ChromSeq='inputs/ENCFF963ZUJ.bed', chromosome='chr10') # depends on which .ipynb file you open"
   ]
  },
  {
   "cell_type": "markdown",
   "metadata": {},
   "source": [
    "As you can see on the output above, we build the system with MiChroM Potential add the homopolymer potentials and the Michrom Potentials.\n",
    "\n",
    "The system reports some statitics as, number of beads, number of chains and the initial energy potential for each force applied."
   ]
  },
  {
   "cell_type": "markdown",
   "metadata": {},
   "source": [
    "Now we create the reporters to save the simulation infos. There are 3 types of reporters:\n",
    "\n",
    "**statistics**: Attaches a reporter to collect simulation statistics such as step number, radius of gyration (RG), total energy, potential energy, kinetic energy, and temperature.\n",
    "\n",
    "**trajectory**:  Attaches a reporter to save trajectory data (xyz per bead per chain) during the simulation. The file format to save the trajectory data. Options are 'cndb', 'swb','ndb', 'pdb', 'gro', 'xyz'. (Default: 'cndb')\n",
    "\n",
    "**energy components**: Saves energy components per force group to a separate file named 'energyComponents.txt' in the simulation folder. Requires that statistics is True\n",
    "\n",
    "set the number of steps interval we will save this information, here I choose 1000 steps"
   ]
  },
  {
   "cell_type": "code",
   "execution_count": 6,
   "metadata": {},
   "outputs": [],
   "source": [
    "sim.createReporters(statistics=True, traj=True, trajFormat=\"cndb\", energyComponents=True, interval=10**3)\n"
   ]
  },
  {
   "cell_type": "markdown",
   "metadata": {},
   "source": [
    "The `sim.run()` function is used to start the simulation. The parameters for this function are:\n",
    "\n",
    "- `nsteps`: The number of steps to run the simulation. In this case, it is set to \\(10^5\\).\n",
    "- `report`: A boolean value indicating whether to report the simulation progress. Here, it is set to `True`.\n",
    "- `interval`: The interval at which the simulation reports progress. In this case, it is set to \\(10^4\\) steps.\n",
    "\n"
   ]
  },
  {
   "cell_type": "code",
   "execution_count": 7,
   "metadata": {},
   "outputs": [
    {
     "name": "stdout",
     "output_type": "stream",
     "text": [
      "#\"Progress (%)\"\t\"Step\"\t\"Speed (ns/day)\"\t\"Time Remaining\"\n",
      "1.0%\t10000\t0\t--\n",
      "2.0%\t20000\t4.96e+03\t2:50\n",
      "3.0%\t30000\t4.82e+03\t2:53\n",
      "4.0%\t40000\t4.67e+03\t2:57\n",
      "5.0%\t50000\t4.54e+03\t3:00\n",
      "6.0%\t60000\t4.45e+03\t3:02\n",
      "7.0%\t70000\t4.38e+03\t3:03\n",
      "8.0%\t80000\t4.34e+03\t3:03\n",
      "9.0%\t90000\t4.31e+03\t3:02\n",
      "10.0%\t100000\t4.27e+03\t3:01\n",
      "11.0%\t110000\t3.42e+03\t3:45\n",
      "12.0%\t120000\t2.92e+03\t4:20\n",
      "13.0%\t130000\t2.59e+03\t4:50\n",
      "14.0%\t140000\t2.36e+03\t5:14\n",
      "15.0%\t150000\t2.2e+03\t5:33\n",
      "16.0%\t160000\t2.07e+03\t5:50\n",
      "17.0%\t170000\t1.97e+03\t6:03\n",
      "18.0%\t180000\t1.89e+03\t6:14\n",
      "19.0%\t190000\t1.83e+03\t6:22\n",
      "20.0%\t200000\t1.77e+03\t6:29\n",
      "21.0%\t210000\t1.73e+03\t6:35\n",
      "22.0%\t220000\t1.69e+03\t6:39\n",
      "23.0%\t230000\t1.65e+03\t6:43\n",
      "24.0%\t240000\t1.62e+03\t6:45\n",
      "25.0%\t250000\t1.59e+03\t6:47\n",
      "26.0%\t260000\t1.57e+03\t6:48\n",
      "27.0%\t270000\t1.54e+03\t6:48\n",
      "28.0%\t280000\t1.52e+03\t6:48\n",
      "29.0%\t290000\t1.5e+03\t6:47\n",
      "30.0%\t300000\t1.49e+03\t6:46\n",
      "31.0%\t310000\t1.47e+03\t6:44\n",
      "32.0%\t320000\t1.46e+03\t6:42\n",
      "33.0%\t330000\t1.45e+03\t6:40\n",
      "34.0%\t340000\t1.43e+03\t6:37\n",
      "35.0%\t350000\t1.42e+03\t6:34\n",
      "36.0%\t360000\t1.41e+03\t6:31\n",
      "37.0%\t370000\t1.4e+03\t6:27\n",
      "38.0%\t380000\t1.39e+03\t6:24\n",
      "39.0%\t390000\t1.39e+03\t6:20\n",
      "40.0%\t400000\t1.38e+03\t6:16\n",
      "41.0%\t410000\t1.37e+03\t6:12\n",
      "42.0%\t420000\t1.36e+03\t6:07\n",
      "43.0%\t430000\t1.36e+03\t6:03\n",
      "44.0%\t440000\t1.35e+03\t5:58\n",
      "45.0%\t450000\t1.35e+03\t5:53\n",
      "46.0%\t460000\t1.34e+03\t5:48\n",
      "47.0%\t470000\t1.33e+03\t5:43\n",
      "48.0%\t480000\t1.33e+03\t5:38\n",
      "49.0%\t490000\t1.32e+03\t5:32\n",
      "50.0%\t500000\t1.32e+03\t5:27\n",
      "51.0%\t510000\t1.32e+03\t5:21\n",
      "52.0%\t520000\t1.31e+03\t5:16\n",
      "53.0%\t530000\t1.31e+03\t5:10\n",
      "54.0%\t540000\t1.3e+03\t5:04\n",
      "55.0%\t550000\t1.3e+03\t4:59\n",
      "56.0%\t560000\t1.3e+03\t4:53\n",
      "57.0%\t570000\t1.29e+03\t4:47\n",
      "58.0%\t580000\t1.29e+03\t4:41\n",
      "59.0%\t590000\t1.29e+03\t4:35\n",
      "60.0%\t600000\t1.29e+03\t4:28\n",
      "61.0%\t610000\t1.28e+03\t4:22\n",
      "62.0%\t620000\t1.28e+03\t4:16\n",
      "63.0%\t630000\t1.28e+03\t4:10\n",
      "64.0%\t640000\t1.27e+03\t4:03\n",
      "65.0%\t650000\t1.27e+03\t3:57\n",
      "66.0%\t660000\t1.27e+03\t3:51\n",
      "67.0%\t670000\t1.27e+03\t3:44\n",
      "68.0%\t680000\t1.27e+03\t3:38\n",
      "69.0%\t690000\t1.26e+03\t3:31\n",
      "70.0%\t700000\t1.26e+03\t3:25\n",
      "71.0%\t710000\t1.26e+03\t3:18\n",
      "72.0%\t720000\t1.26e+03\t3:12\n",
      "73.0%\t730000\t1.26e+03\t3:05\n",
      "74.0%\t740000\t1.25e+03\t2:58\n",
      "75.0%\t750000\t1.25e+03\t2:52\n",
      "76.0%\t760000\t1.25e+03\t2:45\n",
      "77.0%\t770000\t1.25e+03\t2:38\n",
      "78.0%\t780000\t1.25e+03\t2:32\n",
      "79.0%\t790000\t1.25e+03\t2:25\n",
      "80.0%\t800000\t1.25e+03\t2:18\n",
      "81.0%\t810000\t1.24e+03\t2:11\n",
      "82.0%\t820000\t1.24e+03\t2:05\n",
      "83.0%\t830000\t1.24e+03\t1:58\n",
      "84.0%\t840000\t1.24e+03\t1:51\n",
      "85.0%\t850000\t1.24e+03\t1:44\n",
      "86.0%\t860000\t1.24e+03\t1:37\n",
      "87.0%\t870000\t1.24e+03\t1:30\n",
      "88.0%\t880000\t1.24e+03\t1:23\n",
      "89.0%\t890000\t1.23e+03\t1:16\n",
      "90.0%\t900000\t1.23e+03\t1:10\n",
      "91.0%\t910000\t1.23e+03\t1:03\n",
      "92.0%\t920000\t1.23e+03\t0:56\n",
      "93.0%\t930000\t1.23e+03\t0:49\n",
      "94.0%\t940000\t1.23e+03\t0:42\n",
      "95.0%\t950000\t1.23e+03\t0:35\n",
      "96.0%\t960000\t1.23e+03\t0:28\n",
      "97.0%\t970000\t1.23e+03\t0:21\n",
      "98.0%\t980000\t1.23e+03\t0:14\n",
      "99.0%\t990000\t1.22e+03\t0:07\n",
      "100.0%\t1000000\t1.22e+03\t0:00\n"
     ]
    }
   ],
   "source": [
    "sim.run(nsteps=10**6, report=True, interval=10**4)"
   ]
  },
  {
   "cell_type": "markdown",
   "metadata": {},
   "source": [
    "After the simulation end, in the output folder you will find the files, in this tutorial the files was saved in \"/home/antonio/test_OM1.1\""
   ]
  },
  {
   "cell_type": "code",
   "execution_count": null,
   "metadata": {},
   "outputs": [],
   "source": [
    "%%bash\n",
    "cat /home/antonio/test_OM1.1/initialStats.txt\n"
   ]
  },
  {
   "cell_type": "code",
   "execution_count": null,
   "metadata": {},
   "outputs": [],
   "source": [
    "%%bash\n",
    "head -n 10 /home/antonio/test_OM1.1/statistics.txt"
   ]
  },
  {
   "cell_type": "code",
   "execution_count": null,
   "metadata": {},
   "outputs": [],
   "source": [
    "%%bash\n",
    "head -n 10 /home/antonio/test_OM1.1/energyComponents.txt"
   ]
  }
 ],
 "metadata": {
  "kernelspec": {
   "display_name": "openmm_env",
   "language": "python",
   "name": "python3"
  },
  "language_info": {
   "codemirror_mode": {
    "name": "ipython",
    "version": 3
   },
   "file_extension": ".py",
   "mimetype": "text/x-python",
   "name": "python",
   "nbconvert_exporter": "python",
   "pygments_lexer": "ipython3",
   "version": "3.9.21"
  }
 },
 "nbformat": 4,
 "nbformat_minor": 2
}
