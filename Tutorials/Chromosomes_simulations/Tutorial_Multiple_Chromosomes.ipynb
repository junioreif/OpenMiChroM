{
 "cells": [
  {
   "cell_type": "markdown",
   "metadata": {},
   "source": [
    "### Multiple Chromosome Simulation"
   ]
  },
  {
   "cell_type": "markdown",
   "metadata": {},
   "source": [
    "This tutorial should take between 20 to 30 minutes of reading and performing simulations."
   ]
  },
  {
   "cell_type": "markdown",
   "metadata": {},
   "source": [
    "#### Chromatin Dynamics Simulations on Chromosome 10 and Chromosome 11 of GM12878 Cell Line"
   ]
  },
  {
   "cell_type": "markdown",
   "metadata": {},
   "source": [
    "**Note**: This tutorial will be running in OpenMiChroM version 1.1.0 or greater. Please ensure you have the correct version installed before proceeding."
   ]
  },
  {
   "cell_type": "markdown",
   "metadata": {},
   "source": [
    "The first step is to import the **OpenMiChroM** module"
   ]
  },
  {
   "cell_type": "code",
   "execution_count": 1,
   "metadata": {},
   "outputs": [],
   "source": [
    "import sys \n",
    "sys.path.append('../../')\n",
    "import OpenMiChroM\n",
    "from OpenMiChroM.ChromDynamics import MiChroM"
   ]
  },
  {
   "cell_type": "markdown",
   "metadata": {},
   "source": [
    "`OpenMiChroM` allows the simulation of multiples chromosomes. In this tutorial, the multiple chain simulation will be performed using the chromosomes 10 and 11 of the human GM12878 cell line.The system is generated based on the collapsed structure of each chromosome. This collapse step is similar to the one presented in the [single chromosome simulation tutorial](https://open-michrom.readthedocs.io/en/latest/Tutorials/Tutorial_Single_Chromosome.html). For each chromosome, the collapse simulation should be performed individually."
   ]
  },
  {
   "cell_type": "markdown",
   "metadata": {},
   "source": [
    "##### Chromosome 10 Collapse Simulation"
   ]
  },
  {
   "cell_type": "code",
   "execution_count": 2,
   "metadata": {
    "scrolled": true,
    "tags": []
   },
   "outputs": [
    {
     "name": "stdout",
     "output_type": "stream",
     "text": [
      "    ***************************************************************************************     \n",
      "    **** **** *** *** *** *** *** *** OpenMiChroM-1.1.1rc *** *** *** *** *** *** **** ****     \n",
      "\n",
      "         OpenMiChroM is a Python library for performing chromatin dynamics simulations.         \n",
      "                            OpenMiChroM uses the OpenMM Python API,                             \n",
      "                employing the MiChroM (Minimal Chromatin Model) energy function.                \n",
      "      The chromatin dynamics simulations generate an ensemble of 3D chromosomal structures      \n",
      "      that are consistent with experimental Hi-C maps, also allows simulations of a single      \n",
      "                 or multiple chromosome chain using High-Performance Computing                  \n",
      "                            in different platforms (GPUs and CPUs).                             \n",
      "\n",
      "         OpenMiChroM documentation is available at https://open-michrom.readthedocs.io          \n",
      "\n",
      "         OpenMiChroM is described in: Oliveira Junior, A. B & Contessoto, V, G et. al.          \n",
      "      A Scalable Computational Approach for Simulating Complexes of Multiple Chromosomes.       \n",
      "                  Journal of Molecular Biology. doi:10.1016/j.jmb.2020.10.034.                  \n",
      "               We also thank the polychrom <https://github.com/open2c/polychrom>                \n",
      "                 where part of this code was inspired - 10.5281/zenodo.3579472.                 \n",
      "\n",
      "                    Copyright (c) 2024, The OpenMiChroM development team at                     \n",
      "                                        Rice University                                         \n",
      "    ***************************************************************************************     \n",
      "Using platform: CUDA\n",
      "FENEBond was added\n",
      "SelfAvoidance was added\n",
      "AngleForce was added\n",
      "FlatBottomHarmonic was added\n",
      "TypetoType was added\n",
      "IdealChromosome was added\n",
      "Setting positions... loaded!\n",
      "Setting velocities... loaded!\n",
      "Context created!\n",
      "\n",
      "Simulation name: chr10\n",
      "Number of beads: 2712, Number of chains: 1\n",
      "Potential energy: 27.87356, Kinetic Energy: 1.48808 at temperature: 1.0\n",
      "\n",
      "Potential energy per forceGroup:\n",
      "                                 Values\n",
      "FENEBond                  56491.275759\n",
      "SelfAvoidance             19204.811730\n",
      "AngleForce                 5454.732019\n",
      "FlatBottomHarmonic         1205.620565\n",
      "TypetoType                -4408.810106\n",
      "IdealChromosome           -2354.542647\n",
      "Potential Energy (total)  75593.087409\n",
      "Performing chr10 simulation...\n",
      "#\"Progress (%)\"\t\"Step\"\t\"Speed (ns/day)\"\t\"Time Remaining\"\n",
      "10.0%\t100000\t0\t--\n",
      "20.0%\t200000\t1.18e+03\t9:45\n",
      "30.0%\t300000\t1.18e+03\t8:34\n",
      "40.0%\t400000\t1.17e+03\t7:22\n",
      "50.0%\t500000\t1.17e+03\t6:08\n",
      "60.0%\t600000\t1.17e+03\t4:54\n",
      "70.0%\t700000\t1.17e+03\t3:40\n",
      "80.0%\t800000\t1.17e+03\t2:27\n",
      "90.0%\t900000\t1.17e+03\t1:13\n",
      "100.0%\t1000000\t1.25e+03\t0:00\n"
     ]
    }
   ],
   "source": [
    "sim_chr10 = MiChroM(name=\"chr10\", temperature=1.0, timeStep=0.01)\n",
    "sim_chr10.setup(platform=\"cuda\")\n",
    "sim_chr10.saveFolder('output_nucleus')\n",
    "# chr10 = sim_chr10.initStructure(mode='random',ChromSeq='Tutorials/Chromosomes_simulations/inputs/chr10_beads.txt', isRing=False)\n",
    "chr10 = sim_chr10.initStructure(mode='random',ChromSeq='inputs/chr10_beads.txt', isRing=False)\n",
    "sim_chr10.loadStructure(chr10, center=True)\n",
    "\n",
    "sim_chr10.addHomoPolymerForces()\n",
    "sim_chr10.addFlatBottomHarmonic()\n",
    "\n",
    "sim_chr10.addTypetoType(mu=3.22, rc=1.78)\n",
    "sim_chr10.addIdealChromosome(mu=3.22, rc=1.78, dinit=3, dend=500)\n",
    "\n",
    "sim_chr10.createSimulation()\n",
    "\n",
    "print(\"Performing chr10 simulation...\")\n",
    "sim_chr10.run(nsteps=10**6, report=True, interval=10**5)\n",
    "\n",
    "sim_chr10.saveStructure(filename=\"chr10\", mode=\"ndb\")\n",
    "del sim_chr10"
   ]
  },
  {
   "cell_type": "markdown",
   "metadata": {},
   "source": [
    "##### Chromosome 11 Collapse Simulation"
   ]
  },
  {
   "cell_type": "code",
   "execution_count": 4,
   "metadata": {
    "scrolled": true,
    "tags": []
   },
   "outputs": [
    {
     "name": "stdout",
     "output_type": "stream",
     "text": [
      "    ***************************************************************************************     \n",
      "    **** **** *** *** *** *** *** *** OpenMiChroM-1.1.1rc *** *** *** *** *** *** **** ****     \n",
      "\n",
      "         OpenMiChroM is a Python library for performing chromatin dynamics simulations.         \n",
      "                            OpenMiChroM uses the OpenMM Python API,                             \n",
      "                employing the MiChroM (Minimal Chromatin Model) energy function.                \n",
      "      The chromatin dynamics simulations generate an ensemble of 3D chromosomal structures      \n",
      "      that are consistent with experimental Hi-C maps, also allows simulations of a single      \n",
      "                 or multiple chromosome chain using High-Performance Computing                  \n",
      "                            in different platforms (GPUs and CPUs).                             \n",
      "\n",
      "         OpenMiChroM documentation is available at https://open-michrom.readthedocs.io          \n",
      "\n",
      "         OpenMiChroM is described in: Oliveira Junior, A. B & Contessoto, V, G et. al.          \n",
      "      A Scalable Computational Approach for Simulating Complexes of Multiple Chromosomes.       \n",
      "                  Journal of Molecular Biology. doi:10.1016/j.jmb.2020.10.034.                  \n",
      "               We also thank the polychrom <https://github.com/open2c/polychrom>                \n",
      "                 where part of this code was inspired - 10.5281/zenodo.3579472.                 \n",
      "\n",
      "                    Copyright (c) 2024, The OpenMiChroM development team at                     \n",
      "                                        Rice University                                         \n",
      "    ***************************************************************************************     \n",
      "Using platform: CUDA\n",
      "FENEBond was added\n",
      "SelfAvoidance was added\n",
      "AngleForce was added\n",
      "FlatBottomHarmonic was added\n",
      "TypetoType was added\n",
      "IdealChromosome was added\n",
      "Setting positions... loaded!\n",
      "Setting velocities... loaded!\n",
      "Context created!\n",
      "\n",
      "Simulation name: chr11\n",
      "Number of beads: 2703, Number of chains: 1\n",
      "Potential energy: 28.70337, Kinetic Energy: 1.43882 at temperature: 1.0\n",
      "\n",
      "Potential energy per forceGroup:\n",
      "                                 Values\n",
      "FENEBond                  56303.735788\n",
      "SelfAvoidance             22930.546215\n",
      "AngleForce                 5471.662131\n",
      "FlatBottomHarmonic          869.892679\n",
      "TypetoType                -5677.224155\n",
      "IdealChromosome           -2313.390469\n",
      "Potential Energy (total)  77585.222334\n",
      "Performing chr11 simulation...\n",
      "#\"Progress (%)\"\t\"Step\"\t\"Speed (ns/day)\"\t\"Time Remaining\"\n",
      "10.0%\t100000\t--\t--\n",
      "20.0%\t200000\t4.09e+03\t2:48\n",
      "30.0%\t300000\t4.09e+03\t2:27\n",
      "40.0%\t400000\t4.08e+03\t2:07\n",
      "50.0%\t500000\t4.07e+03\t1:46\n",
      "60.0%\t600000\t4.06e+03\t1:25\n",
      "70.0%\t700000\t4.05e+03\t1:03\n",
      "80.0%\t800000\t4.06e+03\t0:42\n",
      "90.0%\t900000\t4.05e+03\t0:21\n",
      "100.0%\t1000000\t4.05e+03\t0:00\n"
     ]
    }
   ],
   "source": [
    "sim_chr11 = MiChroM(name=\"chr11\", temperature=1.0, timeStep=0.01)\n",
    "sim_chr11.setup(platform=\"cuda\")\n",
    "sim_chr11.saveFolder('output_nucleus')\n",
    "#chr11 = sim_chr11.initStructure(mode='random',ChromSeq='Tutorials/Chromosomes_simulations/inputs/chr11_beads.txt', isRing=False)\n",
    "chr11 = sim_chr11.initStructure(mode='random',ChromSeq='inputs/chr11_beads.txt', isRing=False)\n",
    "sim_chr11.loadStructure(chr11, center=True)\n",
    "\n",
    "sim_chr11.addHomoPolymerForces()\n",
    "sim_chr11.addFlatBottomHarmonic()\n",
    "\n",
    "sim_chr11.addTypetoType(mu=3.22, rc=1.78)\n",
    "sim_chr11.addIdealChromosome(mu=3.22, rc=1.78, dinit=3, dend=500)\n",
    "\n",
    "sim_chr11.createSimulation()\n",
    "\n",
    "print(\"Performing chr11 simulation...\")\n",
    "sim_chr11.run(nsteps=10**6, report=True, interval=10**5)\n",
    "\n",
    "sim_chr11.saveStructure(filename=\"chr11\", mode=\"ndb\")\n",
    "del sim_chr11"
   ]
  },
  {
   "cell_type": "markdown",
   "metadata": {},
   "source": [
    "##### Multiple Chromosome Simulation"
   ]
  },
  {
   "cell_type": "markdown",
   "metadata": {},
   "source": [
    "Once the collapse simulations are done, the collapsed structures of each chromosome should be included in the same simulation system."
   ]
  },
  {
   "cell_type": "code",
   "execution_count": 5,
   "metadata": {},
   "outputs": [
    {
     "name": "stdout",
     "output_type": "stream",
     "text": [
      "    ***************************************************************************************     \n",
      "    **** **** *** *** *** *** *** *** OpenMiChroM-1.1.1rc *** *** *** *** *** *** **** ****     \n",
      "\n",
      "         OpenMiChroM is a Python library for performing chromatin dynamics simulations.         \n",
      "                            OpenMiChroM uses the OpenMM Python API,                             \n",
      "                employing the MiChroM (Minimal Chromatin Model) energy function.                \n",
      "      The chromatin dynamics simulations generate an ensemble of 3D chromosomal structures      \n",
      "      that are consistent with experimental Hi-C maps, also allows simulations of a single      \n",
      "                 or multiple chromosome chain using High-Performance Computing                  \n",
      "                            in different platforms (GPUs and CPUs).                             \n",
      "\n",
      "         OpenMiChroM documentation is available at https://open-michrom.readthedocs.io          \n",
      "\n",
      "         OpenMiChroM is described in: Oliveira Junior, A. B & Contessoto, V, G et. al.          \n",
      "      A Scalable Computational Approach for Simulating Complexes of Multiple Chromosomes.       \n",
      "                  Journal of Molecular Biology. doi:10.1016/j.jmb.2020.10.034.                  \n",
      "               We also thank the polychrom <https://github.com/open2c/polychrom>                \n",
      "                 where part of this code was inspired - 10.5281/zenodo.3579472.                 \n",
      "\n",
      "                    Copyright (c) 2024, The OpenMiChroM development team at                     \n",
      "                                        Rice University                                         \n",
      "    ***************************************************************************************     \n"
     ]
    }
   ],
   "source": [
    "sim_nucleus = MiChroM(name=\"nucleus\", temperature=1.0, timeStep=0.01)"
   ]
  },
  {
   "cell_type": "code",
   "execution_count": 6,
   "metadata": {},
   "outputs": [
    {
     "name": "stdout",
     "output_type": "stream",
     "text": [
      "Using platform: CUDA\n"
     ]
    }
   ],
   "source": [
    "sim_nucleus.setup(platform=\"cuda\")"
   ]
  },
  {
   "cell_type": "code",
   "execution_count": 7,
   "metadata": {},
   "outputs": [],
   "source": [
    "sim_nucleus.saveFolder('output_nucleus')"
   ]
  },
  {
   "cell_type": "markdown",
   "metadata": {},
   "source": [
    "The function `initStructure()` receives a list of files and saves the positions of the collapsed chromosomes in the variable `initial_conf`."
   ]
  },
  {
   "cell_type": "code",
   "execution_count": 8,
   "metadata": {},
   "outputs": [
    {
     "name": "stdout",
     "output_type": "stream",
     "text": [
      "Chains:  [(0, 2711, 0), (2712, 5414, 0)]\n"
     ]
    }
   ],
   "source": [
    "initial_conf = sim_nucleus.initStructure(\n",
    "    CoordFiles=['output_nucleus/chr10.ndb',\n",
    "                'output_nucleus/chr11.ndb']\n",
    ")"
   ]
  },
  {
   "cell_type": "markdown",
   "metadata": {},
   "source": [
    "`initial_conf` contains the coordinates of all beads for each chromosome. When used to load coordinate's files (`.ndb`,`.pdb`, or `.gro`), the function `initStructure` prints the variable `chains`, which shows the information of each chromosome.\n",
    "\n",
    "For each chain, we have (`start`,`end`,`is_ring`). `start` is the index of the first bead of the chain, `end` is the index for the last bead and `is_ring` indicates whether the first and last bead are connect or not. `is_ring=0` represents a open chromosome chain and `is_ring=1` represents a circular polymer (used for simulating bacteria genome, for example)."
   ]
  },
  {
   "cell_type": "code",
   "execution_count": 9,
   "metadata": {},
   "outputs": [
    {
     "data": {
      "text/plain": [
       "[(0, 2711, False), (2712, 5414, False)]"
      ]
     },
     "execution_count": 9,
     "metadata": {},
     "output_type": "execute_result"
    }
   ],
   "source": [
    "sim_nucleus.chains"
   ]
  },
  {
   "cell_type": "markdown",
   "metadata": {},
   "source": [
    "Before loading the structures in the simulation context, it is necessary to spatially distribute the chromosome chains. This step is essential to guarantee no overlap between the chains in the initial configuration. It also helps randomizing the initial condition when simulating different replicas."
   ]
  },
  {
   "cell_type": "code",
   "execution_count": 10,
   "metadata": {},
   "outputs": [],
   "source": [
    "initial_conf = sim_nucleus.setFibPosition(initial_conf, factor=1.5)"
   ]
  },
  {
   "cell_type": "markdown",
   "metadata": {},
   "source": [
    "This function distributes the center of mass of each chain in a spherical shell, according to the Fibonacci Sphere Algorithm. The argument `factor` sets the radius of the spherical shell, in comparison to the radius of the nucleus (see function [documentation](https://open-michrom.readthedocs.io/en/latest/OpenMiChroM.html?highlight=setFibPosition#OpenMiChroM.ChromDynamics.MiChroM.setFibPosition)). For simulations with just a few chromosomes, `factor=1.5` should be fine."
   ]
  },
  {
   "cell_type": "markdown",
   "metadata": {},
   "source": [
    "Now we can load the chromosomes with adjusted positions in the simulation context."
   ]
  },
  {
   "cell_type": "code",
   "execution_count": 11,
   "metadata": {},
   "outputs": [],
   "source": [
    "sim_nucleus.loadStructure(initial_conf, center=True)"
   ]
  },
  {
   "cell_type": "markdown",
   "metadata": {},
   "source": [
    "The initial configuration of the chromosome structures can be saved in the [.ndb file format](https://ndb.rice.edu/ndb-format). The file is stored in the path set in `saveFolder`. We advise saving the structure and double-checking if there is no overlap between the chains.\n",
    "\n",
    "When having multiple chains in the simulation context, the `saveStructure` function will save each chromosome structure in a different file. Each chain is associated with an index starting from 0. This index follows the order of addition of the chains in the `initStructure` function. In this tutorial, chromosome 10 receives index 0, and chromosome 11 index 1."
   ]
  },
  {
   "cell_type": "markdown",
   "metadata": {},
   "source": [
    "The next step is to add the force field in the simulation object `sim_nucleus`.\n",
    "\n",
    "In this tutorial, the forces can be divided into two sets:\n",
    "\n",
    "**MiChroM Homopolymer (Bonded) Potentials**  "
   ]
  },
  {
   "cell_type": "code",
   "execution_count": 12,
   "metadata": {},
   "outputs": [],
   "source": [
    "sim_nucleus.addFENEBonds()\n",
    "sim_nucleus.addAngles()\n",
    "sim_nucleus.addSelfAvoidance()\n",
    "sim_nucleus.addFlatBottomHarmonic(nRad=20)"
   ]
  },
  {
   "cell_type": "markdown",
   "metadata": {},
   "source": [
    "**MiChroM Non-Bonded Potentials**\n",
    "\n",
    "The `addTypetoType` interaction is independent of the chromosome chain and only depends on the chromatin subcompartment annotation for the interacting loci. This potential is added for both chains simultaneously."
   ]
  },
  {
   "cell_type": "code",
   "execution_count": 13,
   "metadata": {},
   "outputs": [],
   "source": [
    "sim_nucleus.addTypetoType(mu=3.22, rc=1.78)"
   ]
  },
  {
   "cell_type": "markdown",
   "metadata": {},
   "source": [
    "On the other hand, for the Ideal Chromossome potential, we add the forces for each chromosome separately. The function `addMultiChainIC` receives the chromosome chain index and adds the IC potential.\n",
    "\n",
    "The chromosome chain information can be obtained from the aforementioned variable `chains`. Note that the Ideal Chromosome potential was applied from the genomic distance $d$ = 3 to $d$ = 500. These cutoff values can be adjusted based on the chromosome length and user needs."
   ]
  },
  {
   "cell_type": "code",
   "execution_count": 14,
   "metadata": {},
   "outputs": [],
   "source": [
    "sim_nucleus.addMultiChainIC(chainIndex=0, mu=3.22, rc=1.78, dinit=3, dend=500)\n",
    "sim_nucleus.addMultiChainIC(chainIndex=1, mu=3.22, rc=1.78, dinit=3, dend=500)"
   ]
  },
  {
   "cell_type": "code",
   "execution_count": 15,
   "metadata": {},
   "outputs": [
    {
     "name": "stdout",
     "output_type": "stream",
     "text": [
      "FENEBond was added\n",
      "AngleForce was added\n",
      "SelfAvoidance was added\n",
      "FlatBottomHarmonic was added\n",
      "TypetoType was added\n",
      "IdealChromosomeChain0 was added\n",
      "IdealChromosomeChain1 was added\n",
      "Setting positions... loaded!\n",
      "Setting velocities... loaded!\n",
      "Context created!\n",
      "\n",
      "Simulation name: nucleus\n",
      "Number of beads: 5415, Number of chains: 2\n",
      "Potential energy: 20.39474, Kinetic Energy: 1.51156 at temperature: 1.0\n",
      "\n",
      "Potential energy per forceGroup:\n",
      "                                  Values\n",
      "FENEBond                  112080.481947\n",
      "AngleForce                  5767.280090\n",
      "SelfAvoidance               1192.348546\n",
      "FlatBottomHarmonic          1248.893657\n",
      "TypetoType                 -7858.290788\n",
      "IdealChromosomeChain0      -1993.195636\n",
      "IdealChromosomeChain1      -1993.195636\n",
      "Potential Energy (total)  110437.517814\n"
     ]
    }
   ],
   "source": [
    "sim_nucleus.createSimulation()"
   ]
  },
  {
   "cell_type": "markdown",
   "metadata": {},
   "source": [
    "**The simulation setup is complete!**\n",
    "\n",
    "Before running the production simulation, it is necessary to run a collapse and equilibration simulation as the chains are initially apart. The `addFlatBottomHarmonic` function used above includes in the simulation a harmonic potential to drive the chains together."
   ]
  },
  {
   "cell_type": "markdown",
   "metadata": {},
   "source": [
    "Set the parameters of the collapse simulation:"
   ]
  },
  {
   "cell_type": "code",
   "execution_count": 16,
   "metadata": {},
   "outputs": [],
   "source": [
    "collapse_steps = 10**6\n",
    "production_steps = 10**6 "
   ]
  },
  {
   "cell_type": "code",
   "execution_count": 17,
   "metadata": {},
   "outputs": [
    {
     "name": "stdout",
     "output_type": "stream",
     "text": [
      "#\"Progress (%)\"\t\"Step\"\t\"Speed (ns/day)\"\t\"Time Remaining\"\n",
      "5.0%\t100000\t--\t--\n",
      "10.0%\t200000\t2.39e+03\t10:49\n",
      "15.0%\t300000\t2.41e+03\t10:09\n",
      "20.0%\t400000\t2.41e+03\t9:32\n",
      "25.0%\t500000\t2.42e+03\t8:55\n",
      "30.0%\t600000\t2.42e+03\t8:20\n",
      "35.0%\t700000\t2.42e+03\t7:44\n",
      "40.0%\t800000\t2.42e+03\t7:08\n",
      "45.0%\t900000\t2.42e+03\t6:33\n",
      "50.0%\t1000000\t2.42e+03\t5:57\n"
     ]
    }
   ],
   "source": [
    "sim_nucleus.run(nsteps=collapse_steps, report=True, interval=10**5, totalSteps=(collapse_steps+production_steps))"
   ]
  },
  {
   "cell_type": "markdown",
   "metadata": {},
   "source": [
    "After the collapse, we should remove the harmonic potential and add the nucleus confinement."
   ]
  },
  {
   "cell_type": "code",
   "execution_count": 18,
   "metadata": {},
   "outputs": [
    {
     "name": "stdout",
     "output_type": "stream",
     "text": [
      "Removed FlatBottomHarmonic from the system!\n",
      "adding force  SphericalConfinementLJ 6\n"
     ]
    }
   ],
   "source": [
    "sim_nucleus.removeFlatBottomHarmonic()\n",
    "sim_nucleus.addAdditionalForce(sim_nucleus.addSphericalConfinementLJ)"
   ]
  },
  {
   "cell_type": "markdown",
   "metadata": {},
   "source": [
    "The function `addAdditionalForce` adds a force to the system after the system has been already initialized. The initialization happens when the function `runSimBlock` is executed for the first time after the addition of the forces. In this case, we are using the function to add the Lennard-Jones spherical confinement (`addSphericalConfinementLJ`) in the system after removing the harmonic potential."
   ]
  },
  {
   "cell_type": "markdown",
   "metadata": {},
   "source": [
    "Now we create the reporters to save the simulation infos. There are 3 types of reporters:\n",
    "\n",
    "**statistics**: Attaches a reporter to collect simulation statistics such as step number, radius of gyration (RG), total energy, potential energy, kinetic energy, and temperature.\n",
    "\n",
    "**trajectory**:  Attaches a reporter to save trajectory data (xyz per bead per chain) during the simulation. The file format to save the trajectory data. Options are 'cndb', 'swb','ndb', 'pdb', 'gro', 'xyz'. (Default: 'cndb')\n",
    "\n",
    "**energy components**: Saves energy components per force group to a separate file named 'energyComponents.txt' in the simulation folder. Requires that statistics is True\n",
    "\n",
    "set the number of steps interval we will save this information, here I chose 1000 steps"
   ]
  },
  {
   "cell_type": "code",
   "execution_count": 19,
   "metadata": {},
   "outputs": [],
   "source": [
    "sim_nucleus.createReporters(statistics=True, traj=True, trajFormat=\"cndb\", energyComponents=True, interval=1000)"
   ]
  },
  {
   "cell_type": "code",
   "execution_count": 20,
   "metadata": {
    "scrolled": true,
    "tags": []
   },
   "outputs": [
    {
     "name": "stdout",
     "output_type": "stream",
     "text": [
      "55.0%\t1100000\t2.16e+03\t5:59\n",
      "60.0%\t1200000\t2.18e+03\t5:16\n",
      "65.0%\t1300000\t2.2e+03\t4:35\n",
      "70.0%\t1400000\t2.21e+03\t3:54\n",
      "75.0%\t1500000\t2.22e+03\t3:14\n",
      "80.0%\t1600000\t2.24e+03\t2:34\n",
      "85.0%\t1700000\t2.25e+03\t1:55\n",
      "90.0%\t1800000\t2.25e+03\t1:16\n",
      "95.0%\t1900000\t2.26e+03\t0:38\n",
      "100.0%\t2000000\t2.27e+03\t0:00\n"
     ]
    }
   ],
   "source": [
    "sim_nucleus.run(nsteps=production_steps, report=True, interval=10**5, totalSteps=(collapse_steps+production_steps))"
   ]
  },
  {
   "cell_type": "markdown",
   "metadata": {},
   "source": [
    "To visualize the chromosome's 3D structures in the standard visualization softwares for macromolecules, there are available scripts for converting the `ndb`/`cndb` file formats to `.pdb` and `.gro`. For details, please check the [Nucleome Data Bank](https://ndb.rice.edu/ndb-format).\n",
    "\n",
    "The `ndb` plugin for visualizing the chromatin dynamics trajectories in VMD/Chimera/Pymol is under development."
   ]
  },
  {
   "cell_type": "code",
   "execution_count": 21,
   "metadata": {},
   "outputs": [],
   "source": [
    "sim_nucleus.saveStructure(mode=\"ndb\")\n",
    "sim_nucleus.saveStructure(mode=\"gro\")\n",
    "sim_nucleus.saveStructure(mode=\"pdb\")"
   ]
  },
  {
   "cell_type": "code",
   "execution_count": null,
   "metadata": {},
   "outputs": [],
   "source": []
  }
 ],
 "metadata": {
  "kernelspec": {
   "display_name": "openmm_env",
   "language": "python",
   "name": "python3"
  },
  "language_info": {
   "codemirror_mode": {
    "name": "ipython",
    "version": 3
   },
   "file_extension": ".py",
   "mimetype": "text/x-python",
   "name": "python",
   "nbconvert_exporter": "python",
   "pygments_lexer": "ipython3",
   "version": "3.9.21"
  }
 },
 "nbformat": 4,
 "nbformat_minor": 4
}
